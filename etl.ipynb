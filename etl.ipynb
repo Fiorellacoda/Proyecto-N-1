{
 "cells": [
  {
   "cell_type": "code",
   "execution_count": null,
   "metadata": {},
   "outputs": [],
   "source": [
    "C:\\Users\\Lauta\\Downloads\\movies_dataset.csv"
   ]
  },
  {
   "cell_type": "code",
   "execution_count": null,
   "metadata": {},
   "outputs": [],
   "source": []
  },
  {
   "cell_type": "code",
   "execution_count": 1,
   "metadata": {},
   "outputs": [
    {
     "name": "stderr",
     "output_type": "stream",
     "text": [
      "C:\\Users\\Lauta\\AppData\\Local\\Temp\\ipykernel_20576\\904678423.py:2: DeprecationWarning: \n",
      "Pyarrow will become a required dependency of pandas in the next major release of pandas (pandas 3.0),\n",
      "(to allow more performant data types, such as the Arrow string type, and better interoperability with other libraries)\n",
      "but was not found to be installed on your system.\n",
      "If this would cause problems for you,\n",
      "please provide us feedback at https://github.com/pandas-dev/pandas/issues/54466\n",
      "        \n",
      "  import pandas as pd\n"
     ]
    },
    {
     "name": "stdout",
     "output_type": "stream",
     "text": [
      "   adult                              belongs_to_collection    budget  \\\n",
      "0  False  {'id': 10194, 'name': 'Toy Story Collection', ...  30000000   \n",
      "1  False                                                NaN  65000000   \n",
      "2  False  {'id': 119050, 'name': 'Grumpy Old Men Collect...         0   \n",
      "3  False                                                NaN  16000000   \n",
      "4  False  {'id': 96871, 'name': 'Father of the Bride Col...         0   \n",
      "\n",
      "                                              genres  \\\n",
      "0  [{'id': 16, 'name': 'Animation'}, {'id': 35, '...   \n",
      "1  [{'id': 12, 'name': 'Adventure'}, {'id': 14, '...   \n",
      "2  [{'id': 10749, 'name': 'Romance'}, {'id': 35, ...   \n",
      "3  [{'id': 35, 'name': 'Comedy'}, {'id': 18, 'nam...   \n",
      "4                     [{'id': 35, 'name': 'Comedy'}]   \n",
      "\n",
      "                               homepage     id    imdb_id original_language  \\\n",
      "0  http://toystory.disney.com/toy-story    862  tt0114709                en   \n",
      "1                                   NaN   8844  tt0113497                en   \n",
      "2                                   NaN  15602  tt0113228                en   \n",
      "3                                   NaN  31357  tt0114885                en   \n",
      "4                                   NaN  11862  tt0113041                en   \n",
      "\n",
      "                original_title  \\\n",
      "0                    Toy Story   \n",
      "1                      Jumanji   \n",
      "2             Grumpier Old Men   \n",
      "3            Waiting to Exhale   \n",
      "4  Father of the Bride Part II   \n",
      "\n",
      "                                            overview  ... release_date  \\\n",
      "0  Led by Woody, Andy's toys live happily in his ...  ...   1995-10-30   \n",
      "1  When siblings Judy and Peter discover an encha...  ...   1995-12-15   \n",
      "2  A family wedding reignites the ancient feud be...  ...   1995-12-22   \n",
      "3  Cheated on, mistreated and stepped on, the wom...  ...   1995-12-22   \n",
      "4  Just when George Banks has recovered from his ...  ...   1995-02-10   \n",
      "\n",
      "       revenue runtime                                   spoken_languages  \\\n",
      "0  373554033.0    81.0           [{'iso_639_1': 'en', 'name': 'English'}]   \n",
      "1  262797249.0   104.0  [{'iso_639_1': 'en', 'name': 'English'}, {'iso...   \n",
      "2          0.0   101.0           [{'iso_639_1': 'en', 'name': 'English'}]   \n",
      "3   81452156.0   127.0           [{'iso_639_1': 'en', 'name': 'English'}]   \n",
      "4   76578911.0   106.0           [{'iso_639_1': 'en', 'name': 'English'}]   \n",
      "\n",
      "     status                                            tagline  \\\n",
      "0  Released                                                NaN   \n",
      "1  Released          Roll the dice and unleash the excitement!   \n",
      "2  Released  Still Yelling. Still Fighting. Still Ready for...   \n",
      "3  Released  Friends are the people who let you be yourself...   \n",
      "4  Released  Just When His World Is Back To Normal... He's ...   \n",
      "\n",
      "                         title  video vote_average vote_count  \n",
      "0                    Toy Story  False          7.7     5415.0  \n",
      "1                      Jumanji  False          6.9     2413.0  \n",
      "2             Grumpier Old Men  False          6.5       92.0  \n",
      "3            Waiting to Exhale  False          6.1       34.0  \n",
      "4  Father of the Bride Part II  False          5.7      173.0  \n",
      "\n",
      "[5 rows x 24 columns]\n",
      "Número total de columnas: 24\n",
      "Columna: adult, Cantidad de datos: 45466\n",
      "Columna: belongs_to_collection, Cantidad de datos: 4494\n",
      "Columna: budget, Cantidad de datos: 45466\n",
      "Columna: genres, Cantidad de datos: 45466\n",
      "Columna: homepage, Cantidad de datos: 7782\n",
      "Columna: id, Cantidad de datos: 45466\n",
      "Columna: imdb_id, Cantidad de datos: 45449\n",
      "Columna: original_language, Cantidad de datos: 45455\n",
      "Columna: original_title, Cantidad de datos: 45466\n",
      "Columna: overview, Cantidad de datos: 44512\n",
      "Columna: popularity, Cantidad de datos: 45461\n",
      "Columna: poster_path, Cantidad de datos: 45080\n",
      "Columna: production_companies, Cantidad de datos: 45463\n",
      "Columna: production_countries, Cantidad de datos: 45463\n",
      "Columna: release_date, Cantidad de datos: 45379\n",
      "Columna: revenue, Cantidad de datos: 45460\n",
      "Columna: runtime, Cantidad de datos: 45203\n",
      "Columna: spoken_languages, Cantidad de datos: 45460\n",
      "Columna: status, Cantidad de datos: 45379\n",
      "Columna: tagline, Cantidad de datos: 20412\n",
      "Columna: title, Cantidad de datos: 45460\n",
      "Columna: video, Cantidad de datos: 45460\n",
      "Columna: vote_average, Cantidad de datos: 45460\n",
      "Columna: vote_count, Cantidad de datos: 45460\n"
     ]
    },
    {
     "name": "stderr",
     "output_type": "stream",
     "text": [
      "C:\\Users\\Lauta\\AppData\\Local\\Temp\\ipykernel_20576\\904678423.py:8: DtypeWarning: Columns (10) have mixed types. Specify dtype option on import or set low_memory=False.\n",
      "  df = pd.read_csv(archivo_csv)\n"
     ]
    }
   ],
   "source": [
    "#primeros pasos abrir, desanidar, unir datasets\n",
    "import pandas as pd\n",
    "\n",
    "# Ruta al archivo CSV\n",
    "archivo_csv = r'C:\\Users\\Lauta\\Downloads\\movies_dataset.csv'\n",
    "\n",
    "# Leer el archivo CSV\n",
    "df = pd.read_csv(archivo_csv)\n",
    "\n",
    "# Mostrar las primeras filas del DataFrame\n",
    "print(df.head())\n",
    "\n",
    "#mostrar nombre de cada columna con la cantidad de datos que posee\n",
    "# Obtener los nombres de las columnas\n",
    "columnas = df.columns\n",
    "\n",
    "# Obtener la cantidad de datos en cada columna\n",
    "conteo_datos = df.count()\n",
    "\n",
    "# Imprimir el número total de columnas\n",
    "print(f\"Número total de columnas: {len(columnas)}\")\n",
    "\n",
    "# Imprimir los nombres de las columnas y la cantidad de datos\n",
    "for columna in columnas:\n",
    "    print(f\"Columna: {columna}, Cantidad de datos: {conteo_datos[columna]}\")"
   ]
  },
  {
   "cell_type": "code",
   "execution_count": 31,
   "metadata": {},
   "outputs": [
    {
     "name": "stderr",
     "output_type": "stream",
     "text": [
      "C:\\Users\\Lauta\\AppData\\Local\\Temp\\ipykernel_20576\\286911967.py:5: DtypeWarning: Columns (10) have mixed types. Specify dtype option on import or set low_memory=False.\n",
      "  df = pd.read_csv(file_path)\n"
     ]
    },
    {
     "name": "stdout",
     "output_type": "stream",
     "text": [
      "Columnas eliminadas y archivo guardado como C:\\Users\\Lauta\\Downloads\\movies_dataset_modificado1.csv exitosamente.\n"
     ]
    }
   ],
   "source": [
    "import pandas as pd\n",
    "\n",
    "# Leer el archivo CSV\n",
    "file_path = r'C:\\Users\\Lauta\\Downloads\\movies_dataset.csv'\n",
    "df = pd.read_csv(file_path)\n",
    "\n",
    "# Especificar las columnas a eliminar\n",
    "columns_to_drop = ['adult', 'homepage', 'imdb_id', 'original_language', 'overview', 'poster_path', 'production_countries', 'tagline', 'video']\n",
    "\n",
    "# Eliminar las columnas\n",
    "df = df.drop(columns=columns_to_drop)\n",
    "\n",
    "# Definir el nuevo nombre del archivo\n",
    "new_file_path = r'C:\\Users\\Lauta\\Downloads\\movies_dataset_modificado1.csv'\n",
    "\n",
    "# Guardar el DataFrame modificado en el nuevo archivo CSV\n",
    "df.to_csv(new_file_path, index=False)\n",
    "\n",
    "print(f\"Columnas eliminadas y archivo guardado como {new_file_path} exitosamente.\")\n"
   ]
  },
  {
   "cell_type": "code",
   "execution_count": 32,
   "metadata": {},
   "outputs": [
    {
     "name": "stdout",
     "output_type": "stream",
     "text": [
      "Valores nulos rellenados y archivo guardado exitosamente en C:\\Users\\Lauta\\Downloads\\movies_dataset_modificado1.csv.\n"
     ]
    }
   ],
   "source": [
    "import pandas as pd\n",
    "\n",
    "# Leer el archivo CSV modificado\n",
    "file_path = r'C:\\Users\\Lauta\\Downloads\\movies_dataset_modificado1.csv'\n",
    "df = pd.read_csv(file_path)\n",
    "\n",
    "# Rellenar los valores nulos en las columnas 'revenue' y 'budget' con 0\n",
    "df['revenue'] = df['revenue'].fillna(0)\n",
    "df['budget'] = df['budget'].fillna(0)\n",
    "\n",
    "# Guardar el DataFrame modificado en el mismo archivo CSV\n",
    "df.to_csv(file_path, index=False)\n",
    "\n",
    "print(f\"Valores nulos rellenados y archivo guardado exitosamente en {file_path}.\")\n"
   ]
  },
  {
   "cell_type": "code",
   "execution_count": 33,
   "metadata": {},
   "outputs": [
    {
     "name": "stdout",
     "output_type": "stream",
     "text": [
      "Archivo modificado exitosamente y guardado en C:\\Users\\Lauta\\Downloads\\movies_dataset_modificado1.csv.\n",
      "Fechas corregidas: 3\n"
     ]
    }
   ],
   "source": [
    "import pandas as pd\n",
    "import numpy as np\n",
    "\n",
    "# Leer el archivo CSV modificado\n",
    "file_path = r'C:\\Users\\Lauta\\Downloads\\movies_dataset_modificado1.csv'\n",
    "df = pd.read_csv(file_path)\n",
    "\n",
    "# Función para validar y corregir las fechas\n",
    "def validate_and_correct_date(date):\n",
    "    try:\n",
    "        # Intentar convertir la fecha al formato AAAA-mm-dd\n",
    "        corrected_date = pd.to_datetime(date, format='%Y-%m-%d', errors='coerce')\n",
    "        \n",
    "        # Verificar si el mes está entre 1 y 12\n",
    "        if pd.isna(corrected_date) or not (1 <= corrected_date.month <= 12):\n",
    "            return np.nan\n",
    "        return corrected_date.strftime('%Y-%m-%d')\n",
    "    except:\n",
    "        return np.nan\n",
    "\n",
    "# Contar el número de correcciones\n",
    "initial_invalid_dates = df['release_date'].isna().sum()\n",
    "df['release_date'] = df['release_date'].apply(validate_and_correct_date)\n",
    "final_invalid_dates = df['release_date'].isna().sum()\n",
    "corrections = final_invalid_dates - initial_invalid_dates\n",
    "\n",
    "# Crear la columna 'release_year' extrayendo el año de 'release_date'\n",
    "df['release_year'] = pd.to_datetime(df['release_date'], errors='coerce').dt.year\n",
    "\n",
    "# Guardar el DataFrame modificado en el mismo archivo CSV\n",
    "df.to_csv(file_path, index=False)\n",
    "\n",
    "print(f\"Archivo modificado exitosamente y guardado en {file_path}.\")\n",
    "print(f\"Fechas corregidas: {corrections}\")\n"
   ]
  },
  {
   "cell_type": "code",
   "execution_count": 35,
   "metadata": {},
   "outputs": [
    {
     "name": "stdout",
     "output_type": "stream",
     "text": [
      "Valores nulos eliminados y archivo guardado exitosamente en C:\\Users\\Lauta\\Downloads\\movies_dataset_modificado1.csv.\n"
     ]
    }
   ],
   "source": [
    "import pandas as pd\n",
    "\n",
    "# Leer el archivo CSV modificado\n",
    "file_path = r'C:\\Users\\Lauta\\Downloads\\movies_dataset_modificado1.csv'\n",
    "df = pd.read_csv(file_path)\n",
    "\n",
    "# Eliminar las filas con valores nulos en la columna 'release_date'\n",
    "df = df.dropna(subset=['release_date'])\n",
    "\n",
    "# Guardar el DataFrame modificado en el mismo archivo CSV\n",
    "df.to_csv(file_path, index=False)\n",
    "\n",
    "print(f\"Valores nulos eliminados y archivo guardado exitosamente en {file_path}.\")\n"
   ]
  },
  {
   "cell_type": "code",
   "execution_count": 36,
   "metadata": {},
   "outputs": [
    {
     "name": "stdout",
     "output_type": "stream",
     "text": [
      "Valores nulos eliminados, columna 'return' creada y archivo guardado exitosamente en C:\\Users\\Lauta\\Downloads\\movies_dataset_modificado1.csv.\n"
     ]
    }
   ],
   "source": [
    "import pandas as pd\n",
    "\n",
    "# Leer el archivo CSV modificado\n",
    "file_path = r'C:\\Users\\Lauta\\Downloads\\movies_dataset_modificado1.csv'\n",
    "df = pd.read_csv(file_path)\n",
    "\n",
    "# Eliminar las filas con valores nulos en la columna 'release_date'\n",
    "df = df.dropna(subset=['release_date'])\n",
    "\n",
    "# Crear la columna 'return' calculando revenue / budget\n",
    "df['return'] = df.apply(lambda row: row['revenue'] / row['budget'] if row['budget'] > 0 else 0, axis=1)\n",
    "\n",
    "# Reemplazar los valores nulos en la columna 'return' con 0 (por si acaso)\n",
    "df['return'] = df['return'].fillna(0)\n",
    "\n",
    "# Guardar el DataFrame modificado en el mismo archivo CSV\n",
    "df.to_csv(file_path, index=False)\n",
    "\n",
    "print(f\"Valores nulos eliminados, columna 'return' creada y archivo guardado exitosamente en {file_path}.\")\n"
   ]
  },
  {
   "cell_type": "code",
   "execution_count": 37,
   "metadata": {},
   "outputs": [
    {
     "name": "stdout",
     "output_type": "stream",
     "text": [
      "Columna 'original_title' eliminada y archivo guardado exitosamente en C:\\Users\\Lauta\\Downloads\\movies_dataset_modificado1.csv.\n"
     ]
    }
   ],
   "source": [
    "import pandas as pd\n",
    "\n",
    "# Leer el archivo CSV modificado\n",
    "file_path = r'C:\\Users\\Lauta\\Downloads\\movies_dataset_modificado1.csv'\n",
    "df = pd.read_csv(file_path)\n",
    "\n",
    "# Eliminar la columna 'original_title'\n",
    "df = df.drop(columns=['original_title'], errors='ignore')\n",
    "\n",
    "# Guardar el DataFrame modificado en el mismo archivo CSV\n",
    "df.to_csv(file_path, index=False)\n",
    "\n",
    "print(f\"Columna 'original_title' eliminada y archivo guardado exitosamente en {file_path}.\")\n"
   ]
  },
  {
   "cell_type": "code",
   "execution_count": 12,
   "metadata": {},
   "outputs": [],
   "source": [
    "import pandas as pd\n",
    "\n",
    "# Leer el archivo CSV modificado\n",
    "file_path = r'C:\\Users\\Lauta\\Downloads\\movies_dataset_modificado1.csv'\n",
    "df = pd.read_csv(file_path)\n",
    "\n",
    "# Eliminar la columna 'original_title'\n",
    "df = df.drop(columns=['production_companies'], errors='ignore')\n",
    "\n",
    "# Guardar el DataFrame modificado en el mismo archivo CSV\n",
    "df.to_csv(file_path, index=False)\n"
   ]
  },
  {
   "cell_type": "code",
   "execution_count": 38,
   "metadata": {},
   "outputs": [
    {
     "name": "stdout",
     "output_type": "stream",
     "text": [
      "Columna 'belongs_to_collection' modificada y archivo guardado exitosamente en C:\\Users\\Lauta\\Downloads\\movies_dataset_modificado1.csv.\n"
     ]
    }
   ],
   "source": [
    "import pandas as pd\n",
    "\n",
    "# Leer el archivo CSV modificado\n",
    "file_path = r'C:\\Users\\Lauta\\Downloads\\movies_dataset_modificado1.csv'\n",
    "df = pd.read_csv(file_path)\n",
    "\n",
    "# Función para extraer el nombre de la colección\n",
    "def extract_collection_name(belongs_to_collection):\n",
    "    if pd.isna(belongs_to_collection):\n",
    "        return belongs_to_collection\n",
    "    try:\n",
    "        # Extraer la parte correspondiente al nombre de la colección\n",
    "        name_part = belongs_to_collection.split(\", 'name': '\")[1]\n",
    "        collection_name = name_part.split(\"', \")[0]\n",
    "        return collection_name\n",
    "    except IndexError:\n",
    "        return None\n",
    "\n",
    "# Aplicar la función a la columna 'belongs_to_collection'\n",
    "df['belongs_to_collection'] = df['belongs_to_collection'].apply(extract_collection_name)\n",
    "\n",
    "# Guardar el DataFrame modificado en el mismo archivo CSV\n",
    "df.to_csv(file_path, index=False)\n",
    "\n",
    "print(f\"Columna 'belongs_to_collection' modificada y archivo guardado exitosamente en {file_path}.\")\n"
   ]
  },
  {
   "cell_type": "code",
   "execution_count": 39,
   "metadata": {},
   "outputs": [
    {
     "name": "stdout",
     "output_type": "stream",
     "text": [
      "Columna 'genres' modificada y archivo guardado exitosamente en C:\\Users\\Lauta\\Downloads\\movies_dataset_modificado1.csv.\n"
     ]
    }
   ],
   "source": [
    "import pandas as pd\n",
    "import re\n",
    "\n",
    "# Leer el archivo CSV modificado\n",
    "file_path = r'C:\\Users\\Lauta\\Downloads\\movies_dataset_modificado1.csv'\n",
    "df = pd.read_csv(file_path)\n",
    "\n",
    "# Función para extraer solo los nombres de los géneros\n",
    "def extract_genre_names(genres):\n",
    "    if pd.isna(genres):\n",
    "        return genres\n",
    "    try:\n",
    "        # Utilizar expresiones regulares para extraer los nombres de los géneros\n",
    "        genre_names = re.findall(r\"'name':\\s?'(.*?)'\", genres)\n",
    "        return ', '.join(genre_names)\n",
    "    except Exception as e:\n",
    "        return None\n",
    "\n",
    "# Aplicar la función a la columna 'genres'\n",
    "df['genres'] = df['genres'].apply(extract_genre_names)\n",
    "\n",
    "# Guardar el DataFrame modificado en el mismo archivo CSV\n",
    "df.to_csv(file_path, index=False)\n",
    "\n",
    "print(f\"Columna 'genres' modificada y archivo guardado exitosamente en {file_path}.\")\n",
    "\n"
   ]
  },
  {
   "cell_type": "code",
   "execution_count": 49,
   "metadata": {},
   "outputs": [
    {
     "ename": "SyntaxError",
     "evalue": "(unicode error) 'unicodeescape' codec can't decode bytes in position 2-3: truncated \\UXXXXXXXX escape (2634682427.py, line 27)",
     "output_type": "error",
     "traceback": [
      "\u001b[1;36m  Cell \u001b[1;32mIn[49], line 27\u001b[1;36m\u001b[0m\n\u001b[1;33m    df_limpio.to_csv(\"C:\\Users\\Lauta\\Downloads\\credits1 (1).csv\", index=False)\u001b[0m\n\u001b[1;37m                     ^\u001b[0m\n\u001b[1;31mSyntaxError\u001b[0m\u001b[1;31m:\u001b[0m (unicode error) 'unicodeescape' codec can't decode bytes in position 2-3: truncated \\UXXXXXXXX escape\n"
     ]
    }
   ],
   "source": [
    "import pandas as pd\n",
    "import ast\n",
    "\n",
    "def limpiar_informacion_cast(df):\n",
    "    # Definir las claves a eliminar\n",
    "    claves_a_eliminar = ['cast_id', 'credit_id', 'gender', 'id', 'order', 'profile_path']\n",
    "    \n",
    "    # Convertir la columna 'cast' de string a lista de diccionarios\n",
    "    df['cast'] = df['cast'].apply(ast.literal_eval)\n",
    "    \n",
    "    # Eliminar las claves específicas de cada diccionario en la lista\n",
    "    for i, fila in df.iterrows():\n",
    "        nuevo_cast = []\n",
    "        for actor in fila['cast']:\n",
    "            nuevo_cast.append({clave: valor for clave, valor in actor.items() if clave not in claves_a_eliminar})\n",
    "        df.at[i, 'cast'] = nuevo_cast\n",
    "    \n",
    "    return df\n",
    "\n",
    "# Cargar el DataFrame\n",
    "df = pd.read_csv(r\"C:\\Users\\Lauta\\Downloads\\credits (1).csv\")\n",
    "\n",
    "# Aplicar la función para limpiar la información de la columna 'cast'\n",
    "df_limpio = limpiar_informacion_cast(df)\n",
    "\n",
    "# Guardar el DataFrame actualizado en un nuevo archivo CSV (opcional)\n",
    "df_limpio.to_csv(\"C:\\Users\\Lauta\\Downloads\\credits1 (1).csv\", index=False)\n",
    "\n",
    "# Mostrar el DataFrame actualizado\n",
    "print(df_limpio.head())\n",
    "\n"
   ]
  },
  {
   "cell_type": "code",
   "execution_count": 51,
   "metadata": {},
   "outputs": [
    {
     "name": "stdout",
     "output_type": "stream",
     "text": [
      "                                                cast  \\\n",
      "0  [{'character': 'Woody (voice)', 'name': 'Tom H...   \n",
      "1  [{'character': 'Alan Parrish', 'name': 'Robin ...   \n",
      "2  [{'character': 'Max Goldman', 'name': 'Walter ...   \n",
      "3  [{'character': 'Savannah 'Vannah' Jackson', 'n...   \n",
      "4  [{'character': 'George Banks', 'name': 'Steve ...   \n",
      "\n",
      "                                                crew     id  \n",
      "0  [{'credit_id': '52fe4284c3a36847f8024f49', 'de...    862  \n",
      "1  [{'credit_id': '52fe44bfc3a36847f80a7cd1', 'de...   8844  \n",
      "2  [{'credit_id': '52fe466a9251416c75077a89', 'de...  15602  \n",
      "3  [{'credit_id': '52fe44779251416c91011acb', 'de...  31357  \n",
      "4  [{'credit_id': '52fe44959251416c75039ed7', 'de...  11862  \n"
     ]
    }
   ],
   "source": [
    "import pandas as pd\n",
    "import ast\n",
    "\n",
    "def limpiar_informacion_cast(df):\n",
    "    # Definir las claves a eliminar\n",
    "    claves_a_eliminar = ['cast_id', 'credit_id', 'gender', 'id', 'order', 'profile_path']\n",
    "    \n",
    "    # Convertir la columna 'cast' de string a lista de diccionarios\n",
    "    df['cast'] = df['cast'].apply(ast.literal_eval)\n",
    "    \n",
    "    # Eliminar las claves específicas de cada diccionario en la lista\n",
    "    for i, fila in df.iterrows():\n",
    "        nuevo_cast = []\n",
    "        for actor in fila['cast']:\n",
    "            nuevo_cast.append({clave: valor for clave, valor in actor.items() if clave not in claves_a_eliminar})\n",
    "        df.at[i, 'cast'] = nuevo_cast\n",
    "    \n",
    "    return df\n",
    "\n",
    "# Cargar el DataFrame\n",
    "df = pd.read_csv(r\"C:\\Users\\Lauta\\Downloads\\credits (1).csv\")\n",
    "\n",
    "# Aplicar la función para limpiar la información de la columna 'cast'\n",
    "df_limpio = limpiar_informacion_cast(df)\n",
    "\n",
    "# Guardar el DataFrame actualizado en un nuevo archivo CSV (opcional)\n",
    "df_limpio.to_csv(r\"C:\\Users\\Lauta\\Downloads\\creditos_cambiados(1).csv\", index=False)\n",
    "\n",
    "# Mostrar el DataFrame actualizado\n",
    "print(df_limpio.head())\n"
   ]
  },
  {
   "cell_type": "code",
   "execution_count": 59,
   "metadata": {},
   "outputs": [
    {
     "name": "stdout",
     "output_type": "stream",
     "text": [
      "El archivo procesado ha sido guardado en C:\\Users\\Lauta\\Downloads\\movies_dataset-directors_and_actors.csv\n"
     ]
    }
   ],
   "source": [
    "import pandas as pd\n",
    "import ast\n",
    "\n",
    "# Cargar el CSV\n",
    "file_path = r\"C:\\Users\\Lauta\\Downloads\\creditos_cambiados(1).csv\"\n",
    "df = pd.read_csv(file_path)\n",
    "\n",
    "# Función para procesar la columna 'crew'\n",
    "def process_crew_column(crew_data):\n",
    "    if pd.isna(crew_data):\n",
    "        return None\n",
    "    crew_list = ast.literal_eval(crew_data)\n",
    "    directors = [person['name'] for person in crew_list if person['job'] == 'Director']\n",
    "    return directors if directors else None\n",
    "\n",
    "# Aplicar la función a la columna 'crew'\n",
    "df['directors'] = df['crew'].apply(process_crew_column)\n",
    "\n",
    "# Eliminar las columnas no deseadas\n",
    "columns_to_drop = ['crew', 'credit_id', 'department', 'gender','profile_path']\n",
    "df.drop(columns=columns_to_drop, inplace=True, errors='ignore')\n",
    "\n",
    "# Guardar el resultado en un nuevo archivo CSV\n",
    "output_file_path = \"C:\\\\Users\\\\Lauta\\\\Downloads\\\\movies_dataset-directors_and_actors.csv\"\n",
    "df.to_csv(output_file_path, index=False)\n",
    "\n",
    "print(f\"El archivo procesado ha sido guardado en {output_file_path}\")\n"
   ]
  },
  {
   "cell_type": "code",
   "execution_count": 2,
   "metadata": {},
   "outputs": [
    {
     "name": "stdout",
     "output_type": "stream",
     "text": [
      "Filas eliminadas y archivo guardado como movies_dataset_credit_modified2.csv.\n"
     ]
    }
   ],
   "source": [
    "import pandas as pd\n",
    "\n",
    "# Carga tu dataset\n",
    "file_path = r\"C:\\Users\\Lauta\\Downloads\\movies_dataset_modificado1.csv\"\n",
    "df = pd.read_csv(file_path)\n",
    "\n",
    "# Elimina las filas desde la 301 hasta la 45368 (index 300 hasta 45367)\n",
    "df = df.drop(df.index[1500:45368])\n",
    "\n",
    "# Guarda el dataset modificado en un nuevo archivo\n",
    "new_file_path = \"C:\\\\Users\\\\Lauta\\\\Downloads\\\\movies_dataset_peliculas_modified2.csv\"\n",
    "df.to_csv(new_file_path, index=False)\n",
    "\n",
    "print(\"Filas eliminadas y archivo guardado como movies_dataset_credit_modified2.csv.\")"
   ]
  },
  {
   "cell_type": "code",
   "execution_count": 5,
   "metadata": {},
   "outputs": [
    {
     "name": "stdout",
     "output_type": "stream",
     "text": [
      "Filas eliminadas y archivo guardado como movies_dataset_credit_modified2.csv.\n"
     ]
    }
   ],
   "source": [
    "import pandas as pd\n",
    "\n",
    "# Carga tu dataset\n",
    "file_path = r\"C:\\\\Users\\\\Lauta\\\\Downloads\\\\movies_dataset-directors_and_actors.csv\"\n",
    "df = pd.read_csv(file_path)\n",
    "\n",
    "# Elimina las filas desde la 301 hasta la 45368 (index 300 hasta 45367)\n",
    "df = df.drop(df.index[1500:45368])\n",
    "\n",
    "# Guarda el dataset modificado en un nuevo archivo\n",
    "new_file_path = \"C:\\\\Users\\\\Lauta\\\\Downloads\\\\movies_dataset_credit_modified2.csv\"\n",
    "df.to_csv(new_file_path, index=False)\n",
    "\n",
    "print(\"Filas eliminadas y archivo guardado como movies_dataset_credit_modified2.csv.\")"
   ]
  },
  {
   "cell_type": "code",
   "execution_count": 8,
   "metadata": {},
   "outputs": [
    {
     "name": "stdout",
     "output_type": "stream",
     "text": [
      "Datasets concatenados horizontalmente y guardados como dataset_finalparalaprueba.csv.\n"
     ]
    }
   ],
   "source": [
    "import pandas as pd\n",
    "\n",
    "# Carga los datasets\n",
    "file_path1 = \"C:\\\\Users\\\\Lauta\\\\Downloads\\\\movies_dataset_credit_modified2.csv\"\n",
    "file_path2 = \"C:\\\\Users\\\\Lauta\\\\Downloads\\\\movies_dataset_peliculas_modified2.csv\"\n",
    "df1 = pd.read_csv(file_path1)\n",
    "df2 = pd.read_csv(file_path2)\n",
    "\n",
    "# Concatenar horizontalmente\n",
    "concatenated_df = pd.concat([df1, df2], axis=1)\n",
    "\n",
    "# Guarda el dataset concatenado en un nuevo archivo\n",
    "concatenated_file_path = \"C:\\\\Users\\\\Lauta\\\\Downloads\\\\dataset_finalparalaprueba.csv\"\n",
    "concatenated_df.to_csv(concatenated_file_path, index=False)\n",
    "\n",
    "print(\"Datasets concatenados horizontalmente y guardados como dataset_finalparalaprueba.csv.\")\n"
   ]
  }
 ],
 "metadata": {
  "kernelspec": {
   "display_name": "Python 3",
   "language": "python",
   "name": "python3"
  },
  "language_info": {
   "codemirror_mode": {
    "name": "ipython",
    "version": 3
   },
   "file_extension": ".py",
   "mimetype": "text/x-python",
   "name": "python",
   "nbconvert_exporter": "python",
   "pygments_lexer": "ipython3",
   "version": "3.12.4"
  }
 },
 "nbformat": 4,
 "nbformat_minor": 2
}
