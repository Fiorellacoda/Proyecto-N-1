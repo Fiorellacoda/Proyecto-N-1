{
 "cells": [
  {
   "cell_type": "code",
   "execution_count": 24,
   "metadata": {},
   "outputs": [
    {
     "name": "stdout",
     "output_type": "stream",
     "text": [
      "                      title  vote_average\n",
      "30865    One Froggy Evening           7.8\n",
      "0                 Toy Story           7.7\n",
      "1108     The Wrong Trousers           7.6\n",
      "4752         Monsters, Inc.           7.5\n",
      "43140  There Once Was a Dog           7.5\n"
     ]
    }
   ],
   "source": [
    "import pandas as pd\n",
    "dataset = r'C:\\Users\\Lauta\\Downloads\\movies_dataset_modificado1.csv'\n",
    "def recommend_movies(movie_title, dataset):\n",
    "    # Leer el dataset\n",
    "    df = pd.read_csv(dataset)\n",
    "    \n",
    "    # Obtener los géneros de la película ingresada\n",
    "    movie_genres = df[df['title'] == movie_title]['genres'].values\n",
    "    if len(movie_genres) == 0:\n",
    "        return f\"No se encontró la película con el título: {movie_title}\"\n",
    "    \n",
    "    movie_genres = movie_genres[0]\n",
    "    \n",
    "    # Filtrar las películas que tienen los mismos géneros\n",
    "    filtered_movies = df[df['genres'] == movie_genres]\n",
    "    \n",
    "    # Ordenar las películas por vote_average de mayor a menor\n",
    "    top_movies = filtered_movies.sort_values(by='vote_average', ascending=False)\n",
    "    \n",
    "    # Seleccionar las 5 mejores películas\n",
    "    top_5_movies = top_movies.head(5)\n",
    "    \n",
    "    return top_5_movies[['title', 'vote_average']]\n",
    "\n",
    "# Ejemplo de uso\n",
    "\n",
    "movie_title = 'Toy Story'\n",
    "top_5_movies = recommend_movies(movie_title, dataset)\n",
    "print(top_5_movies)\n"
   ]
  }
 ],
 "metadata": {
  "kernelspec": {
   "display_name": "Python 3",
   "language": "python",
   "name": "python3"
  },
  "language_info": {
   "codemirror_mode": {
    "name": "ipython",
    "version": 3
   },
   "file_extension": ".py",
   "mimetype": "text/x-python",
   "name": "python",
   "nbconvert_exporter": "python",
   "pygments_lexer": "ipython3",
   "version": "3.12.4"
  }
 },
 "nbformat": 4,
 "nbformat_minor": 2
}
